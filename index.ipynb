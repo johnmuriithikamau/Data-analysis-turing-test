{
 "cells": [
  {
   "cell_type": "code",
   "execution_count": 88,
   "metadata": {},
   "outputs": [],
   "source": [
    "import pandas as pd\n",
    "import matplotlib.pyplot as plt\n",
    "import numpy as np\n",
    "from scipy.stats import spearmanr\n",
    "from scipy.optimize import curve_fit\n",
    "import matplotlib.pyplot as plt\n",
    "from sklearn.metrics import f1_score"
   ]
  },
  {
   "cell_type": "code",
   "execution_count": 89,
   "metadata": {},
   "outputs": [],
   "source": [
    "# df = pd.read_csv('cardio_alco.csv')\n",
    "# df.head()"
   ]
  },
  {
   "cell_type": "code",
   "execution_count": 90,
   "metadata": {},
   "outputs": [
    {
     "data": {
      "text/html": [
       "<div>\n",
       "<style scoped>\n",
       "    .dataframe tbody tr th:only-of-type {\n",
       "        vertical-align: middle;\n",
       "    }\n",
       "\n",
       "    .dataframe tbody tr th {\n",
       "        vertical-align: top;\n",
       "    }\n",
       "\n",
       "    .dataframe thead th {\n",
       "        text-align: right;\n",
       "    }\n",
       "</style>\n",
       "<table border=\"1\" class=\"dataframe\">\n",
       "  <thead>\n",
       "    <tr style=\"text-align: right;\">\n",
       "      <th></th>\n",
       "      <th>id</th>\n",
       "      <th>age</th>\n",
       "      <th>gender</th>\n",
       "      <th>height</th>\n",
       "      <th>weight</th>\n",
       "      <th>ap_hi</th>\n",
       "      <th>ap_lo</th>\n",
       "      <th>cholesterol</th>\n",
       "      <th>smoke</th>\n",
       "    </tr>\n",
       "  </thead>\n",
       "  <tbody>\n",
       "    <tr>\n",
       "      <th>0</th>\n",
       "      <td>0</td>\n",
       "      <td>18393</td>\n",
       "      <td>2</td>\n",
       "      <td>168</td>\n",
       "      <td>62.0</td>\n",
       "      <td>110</td>\n",
       "      <td>80</td>\n",
       "      <td>1</td>\n",
       "      <td>0</td>\n",
       "    </tr>\n",
       "    <tr>\n",
       "      <th>1</th>\n",
       "      <td>1</td>\n",
       "      <td>20228</td>\n",
       "      <td>1</td>\n",
       "      <td>156</td>\n",
       "      <td>85.0</td>\n",
       "      <td>140</td>\n",
       "      <td>90</td>\n",
       "      <td>3</td>\n",
       "      <td>0</td>\n",
       "    </tr>\n",
       "    <tr>\n",
       "      <th>2</th>\n",
       "      <td>2</td>\n",
       "      <td>18857</td>\n",
       "      <td>1</td>\n",
       "      <td>165</td>\n",
       "      <td>64.0</td>\n",
       "      <td>130</td>\n",
       "      <td>70</td>\n",
       "      <td>3</td>\n",
       "      <td>0</td>\n",
       "    </tr>\n",
       "    <tr>\n",
       "      <th>3</th>\n",
       "      <td>3</td>\n",
       "      <td>17623</td>\n",
       "      <td>2</td>\n",
       "      <td>169</td>\n",
       "      <td>82.0</td>\n",
       "      <td>150</td>\n",
       "      <td>100</td>\n",
       "      <td>1</td>\n",
       "      <td>0</td>\n",
       "    </tr>\n",
       "    <tr>\n",
       "      <th>4</th>\n",
       "      <td>4</td>\n",
       "      <td>17474</td>\n",
       "      <td>1</td>\n",
       "      <td>156</td>\n",
       "      <td>56.0</td>\n",
       "      <td>100</td>\n",
       "      <td>60</td>\n",
       "      <td>1</td>\n",
       "      <td>0</td>\n",
       "    </tr>\n",
       "  </tbody>\n",
       "</table>\n",
       "</div>"
      ],
      "text/plain": [
       "   id    age  gender  height  weight  ap_hi  ap_lo  cholesterol  smoke\n",
       "0   0  18393       2     168    62.0    110     80            1      0\n",
       "1   1  20228       1     156    85.0    140     90            3      0\n",
       "2   2  18857       1     165    64.0    130     70            3      0\n",
       "3   3  17623       2     169    82.0    150    100            1      0\n",
       "4   4  17474       1     156    56.0    100     60            1      0"
      ]
     },
     "execution_count": 90,
     "metadata": {},
     "output_type": "execute_result"
    }
   ],
   "source": [
    "df1 = pd.read_csv('cardio_base.csv')\n",
    "df1.head()"
   ]
  },
  {
   "cell_type": "code",
   "execution_count": 91,
   "metadata": {},
   "outputs": [
    {
     "data": {
      "text/html": [
       "<div>\n",
       "<style scoped>\n",
       "    .dataframe tbody tr th:only-of-type {\n",
       "        vertical-align: middle;\n",
       "    }\n",
       "\n",
       "    .dataframe tbody tr th {\n",
       "        vertical-align: top;\n",
       "    }\n",
       "\n",
       "    .dataframe thead th {\n",
       "        text-align: right;\n",
       "    }\n",
       "</style>\n",
       "<table border=\"1\" class=\"dataframe\">\n",
       "  <thead>\n",
       "    <tr style=\"text-align: right;\">\n",
       "      <th></th>\n",
       "      <th>location</th>\n",
       "      <th>date</th>\n",
       "      <th>new_cases</th>\n",
       "      <th>new_deaths</th>\n",
       "      <th>population</th>\n",
       "      <th>aged_65_older_percent</th>\n",
       "      <th>gdp_per_capita</th>\n",
       "      <th>hospital_beds_per_thousand</th>\n",
       "    </tr>\n",
       "  </thead>\n",
       "  <tbody>\n",
       "    <tr>\n",
       "      <th>0</th>\n",
       "      <td>Afghanistan</td>\n",
       "      <td>2019-12-31</td>\n",
       "      <td>0</td>\n",
       "      <td>0</td>\n",
       "      <td>38928341.0</td>\n",
       "      <td>2.581</td>\n",
       "      <td>1803.987</td>\n",
       "      <td>0.5</td>\n",
       "    </tr>\n",
       "    <tr>\n",
       "      <th>1</th>\n",
       "      <td>Afghanistan</td>\n",
       "      <td>2020-01-01</td>\n",
       "      <td>0</td>\n",
       "      <td>0</td>\n",
       "      <td>38928341.0</td>\n",
       "      <td>2.581</td>\n",
       "      <td>1803.987</td>\n",
       "      <td>0.5</td>\n",
       "    </tr>\n",
       "    <tr>\n",
       "      <th>2</th>\n",
       "      <td>Afghanistan</td>\n",
       "      <td>2020-01-02</td>\n",
       "      <td>0</td>\n",
       "      <td>0</td>\n",
       "      <td>38928341.0</td>\n",
       "      <td>2.581</td>\n",
       "      <td>1803.987</td>\n",
       "      <td>0.5</td>\n",
       "    </tr>\n",
       "    <tr>\n",
       "      <th>3</th>\n",
       "      <td>Afghanistan</td>\n",
       "      <td>2020-01-03</td>\n",
       "      <td>0</td>\n",
       "      <td>0</td>\n",
       "      <td>38928341.0</td>\n",
       "      <td>2.581</td>\n",
       "      <td>1803.987</td>\n",
       "      <td>0.5</td>\n",
       "    </tr>\n",
       "    <tr>\n",
       "      <th>4</th>\n",
       "      <td>Afghanistan</td>\n",
       "      <td>2020-01-04</td>\n",
       "      <td>0</td>\n",
       "      <td>0</td>\n",
       "      <td>38928341.0</td>\n",
       "      <td>2.581</td>\n",
       "      <td>1803.987</td>\n",
       "      <td>0.5</td>\n",
       "    </tr>\n",
       "  </tbody>\n",
       "</table>\n",
       "</div>"
      ],
      "text/plain": [
       "      location        date  new_cases  new_deaths  population  \\\n",
       "0  Afghanistan  2019-12-31          0           0  38928341.0   \n",
       "1  Afghanistan  2020-01-01          0           0  38928341.0   \n",
       "2  Afghanistan  2020-01-02          0           0  38928341.0   \n",
       "3  Afghanistan  2020-01-03          0           0  38928341.0   \n",
       "4  Afghanistan  2020-01-04          0           0  38928341.0   \n",
       "\n",
       "   aged_65_older_percent  gdp_per_capita  hospital_beds_per_thousand  \n",
       "0                  2.581        1803.987                         0.5  \n",
       "1                  2.581        1803.987                         0.5  \n",
       "2                  2.581        1803.987                         0.5  \n",
       "3                  2.581        1803.987                         0.5  \n",
       "4                  2.581        1803.987                         0.5  "
      ]
     },
     "execution_count": 91,
     "metadata": {},
     "output_type": "execute_result"
    }
   ],
   "source": [
    "df2 = pd.read_csv('covid_data.csv')\n",
    "df2.head()"
   ]
  },
  {
   "cell_type": "code",
   "execution_count": 92,
   "metadata": {},
   "outputs": [
    {
     "name": "stdout",
     "output_type": "stream",
     "text": [
      "Number of smokers by gender:\n",
      "gender\n",
      "1     813\n",
      "2    5356\n",
      "Name: smoke, dtype: int64\n"
     ]
    }
   ],
   "source": [
    "# Group by 'gender' and count the occurrences of each value in the 'smoke' column\n",
    "smoke_counts = df1.groupby('gender')['smoke'].value_counts()\n",
    "\n",
    "# Extract the counts for smokers \n",
    "smoker_counts = smoke_counts[:, 1]\n",
    "\n",
    "# Print the result\n",
    "print(\"Number of smokers by gender:\")\n",
    "print(smoker_counts)"
   ]
  },
  {
   "cell_type": "code",
   "execution_count": 93,
   "metadata": {},
   "outputs": [
    {
     "name": "stdout",
     "output_type": "stream",
     "text": [
      "          id    age  gender  height  weight  ap_hi  ap_lo  cholesterol  smoke\n",
      "338      474  21078       1     157   142.0    120     80            1      0\n",
      "389      552  16718       2     165   169.0    120     80            1      0\n",
      "435      618  16765       1     186   200.0    130     70            1      0\n",
      "446      634  21237       2     178   120.0    160     90            1      0\n",
      "591      846  14705       1     164   125.0    130     90            1      0\n",
      "...      ...    ...     ...     ...     ...    ...    ...          ...    ...\n",
      "69012  98584  18317       1     170   123.0    130     90            1      0\n",
      "69060  98640  18924       1     163   119.0    160     90            1      0\n",
      "69109  98709  19077       2     175   155.0    110    100            1      0\n",
      "69440  99182  23141       2     180   123.0    190     99            2      0\n",
      "69996  99995  22601       1     158   126.0    140     90            2      0\n",
      "\n",
      "[691 rows x 9 columns]\n"
     ]
    }
   ],
   "source": [
    "# Calculate the percentage threshold for the tallest individuals you want to include\n",
    "percentage_threshold = 1  # Change this value to your desired percentage (e.g., 1 for the top 1%)\n",
    "\n",
    "# Calculate the cutoff weight based on the specified percentage\n",
    "cutoff_weight = df1['weight'].quantile(1 - percentage_threshold / 100)\n",
    "\n",
    "# Filter the dataframe to include only individuals with weight above the cutoff\n",
    "tallest_people = df1[df1['weight'] > cutoff_weight]\n",
    "\n",
    "# Display the resulting dataframe\n",
    "print(tallest_people)"
   ]
  },
  {
   "cell_type": "code",
   "execution_count": 94,
   "metadata": {},
   "outputs": [
    {
     "name": "stdout",
     "output_type": "stream",
     "text": [
      "Highest Spearman rank correlation: 1.000\n",
      "Variables with the highest correlation: ('id', 'id')\n"
     ]
    }
   ],
   "source": [
    "# Calculate the Spearman rank correlation matrix for all numeric columns\n",
    "spearman_corr_matrix = df1.corr(method='spearman')\n",
    "\n",
    "# Get the highest Spearman rank correlation (excluding self-correlations)\n",
    "max_corr = spearman_corr_matrix.stack().sort_values(ascending=False).iloc[1]\n",
    "\n",
    "# Find the pair of variables with the highest correlation\n",
    "max_corr_pair_index = spearman_corr_matrix.stack().idxmax()\n",
    "max_corr_pair = (max_corr_pair_index[0], max_corr_pair_index[1])\n",
    "\n",
    "# Display the results\n",
    "print(f\"Highest Spearman rank correlation: {max_corr:.3f}\")\n",
    "print(f\"Variables with the highest correlation: {max_corr_pair}\")"
   ]
  },
  {
   "cell_type": "code",
   "execution_count": 95,
   "metadata": {},
   "outputs": [
    {
     "name": "stdout",
     "output_type": "stream",
     "text": [
      "Percentage of people more than 2 standard deviations away from average height: 3.34%\n"
     ]
    }
   ],
   "source": [
    "# Calculate the mean and standard deviation of the 'height' column\n",
    "mean_height = df1['height'].mean()\n",
    "std_dev_height = df1['height'].std()\n",
    "\n",
    "# Define the threshold for being more than 2 standard deviations away\n",
    "threshold = 2\n",
    "\n",
    "# Count the number of people who are more than 2 standard deviations away from the mean height\n",
    "outliers_count = df1[(df1['height'] > mean_height + threshold * std_dev_height) | \n",
    "                    (df1['height'] < mean_height - threshold * std_dev_height)].shape[0]\n",
    "\n",
    "# Calculate the percentage of outliers\n",
    "percentage_outliers = (outliers_count / df1.shape[0]) * 100\n",
    "\n",
    "print(f\"Percentage of people more than 2 standard deviations away from average height: {percentage_outliers:.2f}%\")"
   ]
  },
  {
   "cell_type": "code",
   "execution_count": 96,
   "metadata": {},
   "outputs": [
    {
     "name": "stdout",
     "output_type": "stream",
     "text": [
      "Columns in df_base: Index(['id', 'age', 'gender', 'height', 'weight', 'ap_hi', 'ap_lo',\n",
      "       'cholesterol', 'smoke'],\n",
      "      dtype='object')\n",
      "Columns in df_alco: Index(['id', 'alco'], dtype='object')\n"
     ]
    }
   ],
   "source": [
    "print(\"Columns in df_base:\", df_base.columns)\n",
    "print(\"Columns in df_alco:\", df_alco.columns)\n"
   ]
  },
  {
   "cell_type": "code",
   "execution_count": 97,
   "metadata": {},
   "outputs": [
    {
     "name": "stdout",
     "output_type": "stream",
     "text": [
      "Percentage of population over 50 consuming alcohol: 5.34%\n"
     ]
    }
   ],
   "source": [
    "\n",
    "\n",
    "# Assuming 'cardio_base.csv' contains demographic information and 'Cardio_alco.csv' contains alcohol consumption information\n",
    "df_base = pd.read_csv('cardio_base.csv')\n",
    "df_alco = pd.read_csv('Cardio_alco.csv', sep=';')  # Specify the separator as ';'\n",
    "\n",
    "# Merge datasets on 'id'\n",
    "merged_df = pd.merge(df_base, df_alco, left_on='id', right_on='id', how='inner')\n",
    "\n",
    "# Convert 'alco' column to numeric (assuming it contains numerical values)\n",
    "merged_df['alco'] = pd.to_numeric(merged_df['alco'], errors='coerce')\n",
    "\n",
    "# Filter individuals over 50 years old\n",
    "over_50_df = merged_df[merged_df['age'] > 50]\n",
    "\n",
    "# Calculate the percentage of individuals over 50 who consume alcohol\n",
    "total_over_50 = over_50_df.shape[0]\n",
    "alcohol_consumers_over_50 = over_50_df[over_50_df['alco'] == 1].shape[0]\n",
    "percentage_consumers_over_50 = (alcohol_consumers_over_50 / total_over_50) * 100\n",
    "\n",
    "print(f\"Percentage of population over 50 consuming alcohol: {percentage_consumers_over_50:.2f}%\")\n"
   ]
  },
  {
   "cell_type": "code",
   "execution_count": 98,
   "metadata": {},
   "outputs": [
    {
     "name": "stdout",
     "output_type": "stream",
     "text": [
      "Men have higher average blood pressure than women.\n",
      "Average blood pressure for smokers: 128.36051223861242\n",
      "Average blood pressure for non-smokers: 128.86143096614498\n",
      "Average weight for smokers: 77.34435078618901\n",
      "Average weight for non-smokers: 73.90235152198775\n",
      "Average cholesterol level for smokers: 1.3895282865942615\n",
      "Average cholesterol level for non-smokers: 1.3646817377136502\n"
     ]
    }
   ],
   "source": [
    "# Assuming 'cardio_base.csv' contains the relevant information\n",
    "df = pd.read_csv('cardio_base.csv')\n",
    "\n",
    "# Check if men have higher blood pressure than women\n",
    "average_bp_men = df[df['gender'] == 2]['ap_hi'].mean()\n",
    "average_bp_women = df[df['gender'] == 1]['ap_hi'].mean()\n",
    "\n",
    "if average_bp_men > average_bp_women:\n",
    "    print(\"Men have higher average blood pressure than women.\")\n",
    "else:\n",
    "    print(\"Women have higher or equal average blood pressure than men.\")\n",
    "\n",
    "# Compare blood pressure, weight, and cholesterol levels between smokers and non-smokers\n",
    "smokers = df[df['smoke'] == 1]\n",
    "non_smokers = df[df['smoke'] == 0]\n",
    "\n",
    "# Blood pressure comparison\n",
    "average_bp_smokers = smokers['ap_hi'].mean()\n",
    "average_bp_non_smokers = non_smokers['ap_hi'].mean()\n",
    "print(f\"Average blood pressure for smokers: {average_bp_smokers}\")\n",
    "print(f\"Average blood pressure for non-smokers: {average_bp_non_smokers}\")\n",
    "\n",
    "# Weight comparison\n",
    "average_weight_smokers = smokers['weight'].mean()\n",
    "average_weight_non_smokers = non_smokers['weight'].mean()\n",
    "print(f\"Average weight for smokers: {average_weight_smokers}\")\n",
    "print(f\"Average weight for non-smokers: {average_weight_non_smokers}\")\n",
    "\n",
    "# Cholesterol level comparison\n",
    "average_cholesterol_smokers = smokers['cholesterol'].mean()\n",
    "average_cholesterol_non_smokers = non_smokers['cholesterol'].mean()\n",
    "print(f\"Average cholesterol level for smokers: {average_cholesterol_smokers}\")\n",
    "print(f\"Average cholesterol level for non-smokers: {average_cholesterol_non_smokers}\")\n"
   ]
  },
  {
   "cell_type": "code",
   "execution_count": 99,
   "metadata": {},
   "outputs": [
    {
     "name": "stdout",
     "output_type": "stream",
     "text": [
      "The date when the difference exceeded 1,000 new cases: 2020-03-08\n"
     ]
    }
   ],
   "source": [
    "# Filter data for Italy and Germany\n",
    "italy_data = df2[df2['location'] == 'Italy']\n",
    "germany_data = df2[df2['location'] == 'Germany']\n",
    "\n",
    "# Merge the dataframes on the 'date' column\n",
    "merged_data = pd.merge(italy_data, germany_data, on='date', suffixes=('_italy', '_germany'))\n",
    "\n",
    "# Calculate the difference in new cases\n",
    "merged_data['new_cases_difference'] = merged_data['new_cases_italy'] - merged_data['new_cases_germany']\n",
    "\n",
    "# Find the date when the difference exceeded 1,000 new cases\n",
    "date_threshold_exceeded = merged_data.loc[merged_data['new_cases_difference'] > 1000, 'date'].min()\n",
    "\n",
    "print(f\"The date when the difference exceeded 1,000 new cases: {date_threshold_exceeded}\")"
   ]
  },
  {
   "cell_type": "code",
   "execution_count": 100,
   "metadata": {},
   "outputs": [
    {
     "name": "stdout",
     "output_type": "stream",
     "text": [
      "Index(['location', 'date', 'new_cases', 'new_deaths', 'population',\n",
      "       'aged_65_older_percent', 'gdp_per_capita',\n",
      "       'hospital_beds_per_thousand'],\n",
      "      dtype='object')\n"
     ]
    }
   ],
   "source": [
    "\n",
    "print(df2.columns)"
   ]
  },
  {
   "cell_type": "code",
   "execution_count": 101,
   "metadata": {},
   "outputs": [
    {
     "data": {
      "image/png": "[encoded data removed]",
      "text/plain": [
       "<Figure size 640x480 with 1 Axes>"
      ]
     },
     "metadata": {},
     "output_type": "display_data"
    },
    {
     "name": "stdout",
     "output_type": "stream",
     "text": [
      "Difference between exponential curve and real cases on 2020-03-20: -131.26\n"
     ]
    }
   ],
   "source": [
    "# Filter data for Italy between 2020-02-28 and 2020-03-20\n",
    "italy_data = df2[(df2['location'] == 'Italy') & (df2['date'] >= '2020-02-28') & (df2['date'] <= '2020-03-20')]\n",
    "\n",
    "# Extract the relevant columns\n",
    "days_passed = np.arange(1, len(italy_data) + 1)\n",
    "total_confirmed_cases = italy_data['new_cases'].values\n",
    "\n",
    "# Define the exponential function\n",
    "def exponential_function(x, A, B):\n",
    "    return A * np.exp(B * x)\n",
    "\n",
    "# Fit the exponential function to the data\n",
    "params, covariance = curve_fit(exponential_function, days_passed, total_confirmed_cases)\n",
    "\n",
    "# Extract the fitted parameters\n",
    "A, B = params\n",
    "\n",
    "# Generate the fitted exponential curve\n",
    "fitted_curve = exponential_function(days_passed, A, B)\n",
    "\n",
    "# Plot the real data and the fitted curve\n",
    "plt.plot(days_passed, total_confirmed_cases, label='Real Data')\n",
    "plt.plot(days_passed, fitted_curve, label='Exponential Fit', linestyle='--')\n",
    "plt.xlabel('Days Passed')\n",
    "plt.ylabel('Total Confirmed Cases')\n",
    "plt.title('Exponential Fit to Cumulative Confirmed Cases in Italy')\n",
    "plt.legend()\n",
    "plt.show()\n",
    "\n",
    "# Calculate the difference between the exponential curve and the real cases on 2020-03-20\n",
    "days_on_2020_03_20 = (pd.to_datetime('2020-03-20') - pd.to_datetime('2020-02-28')).days + 1\n",
    "real_cases_on_2020_03_20 = total_confirmed_cases[days_on_2020_03_20 - 1]\n",
    "fitted_cases_on_2020_03_20 = exponential_function(days_on_2020_03_20, A, B)\n",
    "difference = fitted_cases_on_2020_03_20 - real_cases_on_2020_03_20\n",
    "\n",
    "print(f\"Difference between exponential curve and real cases on 2020-03-20: {difference:.2f}\")\n"
   ]
  },
  {
   "cell_type": "code",
   "execution_count": 102,
   "metadata": {},
   "outputs": [
    {
     "name": "stdout",
     "output_type": "stream",
     "text": [
      "Country with the 3rd highest death rate: Belgium\n"
     ]
    }
   ],
   "source": [
    "# Assuming you have a DataFrame named df with columns 'total_deaths' and 'population'\n",
    "df2['death_rate'] = (df2['new_deaths'] / df2['population']) * 1e6  # Calculate death rate per million inhabitants\n",
    "\n",
    "# Sort the DataFrame by death rate in descending order\n",
    "df_sorted = df2.sort_values(by='death_rate', ascending=False)\n",
    "\n",
    "# Get the country with the 3rd highest death rate\n",
    "third_highest_death_rate_country = df_sorted.iloc[50]['location']\n",
    "\n",
    "print(\"Country with the 3rd highest death rate:\", third_highest_death_rate_country)\n"
   ]
  },
  {
   "cell_type": "code",
   "execution_count": 103,
   "metadata": {},
   "outputs": [
    {
     "name": "stdout",
     "output_type": "stream",
     "text": [
      "F1 Score: 0.0\n"
     ]
    },
    {
     "name": "stderr",
     "output_type": "stream",
     "text": [
      "C:\\Users\\Owner\\AppData\\Local\\Temp\\ipykernel_51080\\4079561265.py:5: SettingWithCopyWarning: \n",
      "A value is trying to be set on a copy of a slice from a DataFrame.\n",
      "Try using .loc[row_indexer,col_indexer] = value instead\n",
      "\n",
      "See the caveats in the documentation: https://pandas.pydata.org/pandas-docs/stable/user_guide/indexing.html#returning-a-view-versus-a-copy\n",
      "  df['high_death_rate'] = (df2['new_deaths'] / (df['population'] / 1_000_000)) > 50\n",
      "C:\\Users\\Owner\\AppData\\Local\\Temp\\ipykernel_51080\\4079561265.py:8: SettingWithCopyWarning: \n",
      "A value is trying to be set on a copy of a slice from a DataFrame.\n",
      "Try using .loc[row_indexer,col_indexer] = value instead\n",
      "\n",
      "See the caveats in the documentation: https://pandas.pydata.org/pandas-docs/stable/user_guide/indexing.html#returning-a-view-versus-a-copy\n",
      "  df['older_than_65'] = df2['aged_65_older_percent'] > 20\n"
     ]
    }
   ],
   "source": [
    "# Filter out rows with missing information\n",
    "df = df2.dropna(subset=['new_deaths', 'population', 'aged_65_older_percent'])\n",
    "\n",
    "# Define a binary column indicating whether death rate is over 50 per million inhabitants\n",
    "df['high_death_rate'] = (df2['new_deaths'] / (df['population'] / 1_000_000)) > 50\n",
    "\n",
    "# Define a binary column indicating whether more than 20% of the population is over 65 years old\n",
    "df['older_than_65'] = df2['aged_65_older_percent'] > 20\n",
    "\n",
    "# Evaluate the F1 score\n",
    "f1 = f1_score(df['older_than_65'], df['high_death_rate'])\n",
    "\n",
    "print(f\"F1 Score: {f1}\")\n"
   ]
  },
  {
   "cell_type": "code",
   "execution_count": 104,
   "metadata": {},
   "outputs": [
    {
     "name": "stdout",
     "output_type": "stream",
     "text": [
      "F1 Score: 0.0\n"
     ]
    }
   ],
   "source": [
    "# Filter out rows with missing information\n",
    "df = df.dropna(subset=['new_deaths', 'population', 'aged_65_older_percent'])\n",
    "\n",
    "# Define a binary column indicating whether death rate is over 50 per million inhabitants\n",
    "df['high_death_rate'] = (df['new_deaths'] / (df['population'] / 1_000_000)) > 50\n",
    "\n",
    "# Define a binary column indicating whether more than 20% of the population is over 65 years old\n",
    "df['older_than_65'] = df['aged_65_older_percent'] > 20\n",
    "\n",
    "# Evaluate the F1 score\n",
    "f1 = f1_score(df['older_than_65'], df['high_death_rate'])\n",
    "\n",
    "print(f\"F1 Score: {f1}\")\n"
   ]
  },
  {
   "cell_type": "code",
   "execution_count": 105,
   "metadata": {},
   "outputs": [
    {
     "name": "stdout",
     "output_type": "stream",
     "text": [
      "Probability that a country has GDP over $10,000 given at least 5 hospital beds per 1000 inhabitants: 91.93%\n"
     ]
    }
   ],
   "source": [
    "# Filter out rows with missing information\n",
    "df = df.dropna(subset=['gdp_per_capita', 'hospital_beds_per_thousand'])\n",
    "\n",
    "# Event A: GDP over $10,000\n",
    "event_A = df['gdp_per_capita'] > 10000\n",
    "\n",
    "# Event B: at least 5 hospital beds per 1000 inhabitants\n",
    "event_B = df['hospital_beds_per_thousand'] >= 5\n",
    "\n",
    "# Calculate probabilities\n",
    "prob_A_given_B = (event_A & event_B).sum() / event_B.sum()\n",
    "print(f\"Probability that a country has GDP over $10,000 given at least 5 hospital beds per 1000 inhabitants: {prob_A_given_B:.2%}\")\n"
   ]
  }
 ],
 "metadata": {
  "kernelspec": {
   "display_name": "learn-env",
   "language": "python",
   "name": "python3"
  },
  "language_info": {
   "codemirror_mode": {
    "name": "ipython",
    "version": 3
   },
   "file_extension": ".py",
   "mimetype": "text/x-python",
   "name": "python",
   "nbconvert_exporter": "python",
   "pygments_lexer": "ipython3",
   "version": "3.10.12"
  }
 },
 "nbformat": 4,
 "nbformat_minor": 2
}
